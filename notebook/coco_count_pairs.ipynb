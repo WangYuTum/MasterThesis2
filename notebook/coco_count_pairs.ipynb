{
 "cells": [
  {
   "cell_type": "code",
   "execution_count": 18,
   "metadata": {},
   "outputs": [],
   "source": [
    "import os"
   ]
  },
  {
   "cell_type": "code",
   "execution_count": 19,
   "metadata": {},
   "outputs": [
    {
     "name": "stdout",
     "output_type": "stream",
     "text": [
      "num pair dirs: 10725. example: /storage/slurm/wangyu/coco/Augmented/000000\n"
     ]
    }
   ],
   "source": [
    "base_dir = '/storage/slurm/wangyu/coco/Augmented'\n",
    "pair_lists = sorted(os.path.join(base_dir, dir_name) for dir_name in os.listdir(base_dir))\n",
    "print('num pair dirs: {}. example: {}'.format(len(pair_lists), pair_lists[0]))"
   ]
  },
  {
   "cell_type": "code",
   "execution_count": 20,
   "metadata": {},
   "outputs": [
    {
     "name": "stdout",
     "output_type": "stream",
     "text": [
      "num pairs : 53625, example: ['/storage/slurm/wangyu/coco/Augmented/000000/00000L.jpg', '/storage/slurm/wangyu/coco/Augmented/000000/00000L.png', '/storage/slurm/wangyu/coco/Augmented/000000/00000R.jpg', '/storage/slurm/wangyu/coco/Augmented/000000/00000R.png']\n"
     ]
    }
   ],
   "source": [
    "stat_list = []\n",
    "for pair_dir in pair_lists:\n",
    "    # 5 pairs as jpg and png\n",
    "    for idx in range(5):\n",
    "        tmp_list = []\n",
    "        tmp_list.append(os.path.join(pair_dir, str(idx).zfill(5) + 'L.jpg'))\n",
    "        tmp_list.append(os.path.join(pair_dir, str(idx).zfill(5) + 'L.png'))\n",
    "        tmp_list.append(os.path.join(pair_dir, str(idx).zfill(5) + 'R.jpg'))\n",
    "        tmp_list.append(os.path.join(pair_dir, str(idx).zfill(5) + 'R.png'))\n",
    "        stat_list.append(tmp_list)\n",
    "print('num pairs : {}, example: {}'.format(len(stat_list), stat_list[0]))"
   ]
  },
  {
   "cell_type": "code",
   "execution_count": 22,
   "metadata": {},
   "outputs": [],
   "source": [
    "file_name = os.path.join('/storage/slurm/wangyu/coco', 'train_pairs.txt')\n",
    "with open(file_name, 'w') as f:\n",
    "    # line format: img1_dir, gt1_dir, img2_dir, gt2_dir\n",
    "    f.write('line format: img1_dir anno1_dir img2_dir anno2_dir' + '\\n')\n",
    "    for item in stat_list:\n",
    "        f.write(str(item[0]) + ' ' + str(item[1]) + ' ' + str(item[2]) + ' ' + str(item[3]) + '\\n')\n",
    "    f.flush()\n",
    "print('write to file {}'.format(file_name))"
   ]
  },
  {
   "cell_type": "code",
   "execution_count": null,
   "metadata": {},
   "outputs": [],
   "source": []
  }
 ],
 "metadata": {
  "kernelspec": {
   "display_name": "Python 3",
   "language": "python",
   "name": "python3"
  },
  "language_info": {
   "codemirror_mode": {
    "name": "ipython",
    "version": 3
   },
   "file_extension": ".py",
   "mimetype": "text/x-python",
   "name": "python",
   "nbconvert_exporter": "python",
   "pygments_lexer": "ipython3",
   "version": "3.5.2"
  }
 },
 "nbformat": 4,
 "nbformat_minor": 2
}
