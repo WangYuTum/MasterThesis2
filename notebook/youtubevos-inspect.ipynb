{
 "cells": [
  {
   "cell_type": "code",
   "execution_count": 1,
   "metadata": {},
   "outputs": [],
   "source": [
    "import tensorflow as tf\n",
    "import numpy as np\n",
    "from PIL import Image"
   ]
  },
  {
   "cell_type": "code",
   "execution_count": 2,
   "metadata": {},
   "outputs": [
    {
     "name": "stdout",
     "output_type": "stream",
     "text": [
      "138\n",
      "255\n"
     ]
    }
   ],
   "source": [
    "anno = '/storage/slurm/wangyu/youtube_vos/train/Annotations/0a2f2bd294/00000.png'\n",
    "with tf.gfile.GFile(anno, 'rb') as f:\n",
    "    image_buffer = f.read()\n",
    "    decode_png = tf.image.decode_png(image_buffer, channels=1)\n",
    "    max_label = tf.math.reduce_max(decode_png)\n",
    "    decode_raw = tf.io.decode_raw(bytes=image_buffer, out_type=tf.uint8, little_endian=True, name=None)\n",
    "    max_label2 = tf.math.reduce_max(decode_raw)\n",
    "sess = tf.Session()\n",
    "print(sess.run(max_label))\n",
    "print(sess.run(max_label2))"
   ]
  },
  {
   "cell_type": "code",
   "execution_count": 3,
   "metadata": {},
   "outputs": [
    {
     "name": "stdout",
     "output_type": "stream",
     "text": [
      "uniques:  [0 1 2 3 4]\n",
      "decoded_max_label:  4\n"
     ]
    }
   ],
   "source": [
    "sess = tf.Session()\n",
    "anno = '/storage/slurm/wangyu/youtube_vos/train/Annotations/3b3b0af2ee/00075.png'\n",
    "img_o = Image.open(anno)\n",
    "img_arr = np.expand_dims(np.array(img_o), -1)\n",
    "print('uniques: ', np.unique(img_arr))\n",
    "encoded_png = tf.image.encode_png(image=img_arr, compression=-1, name=None)\n",
    "redecode_png = tf.image.decode_png(encoded_png, channels=1)\n",
    "re_max_label = tf.math.reduce_max(redecode_png)\n",
    "print('decoded_max_label: ', sess.run(re_max_label))"
   ]
  },
  {
   "cell_type": "code",
   "execution_count": null,
   "metadata": {},
   "outputs": [],
   "source": []
  }
 ],
 "metadata": {
  "kernelspec": {
   "display_name": "Python 3",
   "language": "python",
   "name": "python3"
  },
  "language_info": {
   "codemirror_mode": {
    "name": "ipython",
    "version": 3
   },
   "file_extension": ".py",
   "mimetype": "text/x-python",
   "name": "python",
   "nbconvert_exporter": "python",
   "pygments_lexer": "ipython3",
   "version": "3.5.2"
  }
 },
 "nbformat": 4,
 "nbformat_minor": 2
}
